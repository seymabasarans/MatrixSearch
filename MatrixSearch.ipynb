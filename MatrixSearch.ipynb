{
 "cells": [
  {
   "cell_type": "code",
   "execution_count": 18,
   "id": "cc7080e4",
   "metadata": {},
   "outputs": [],
   "source": [
    "#ilk olarak matrisi sıralamalıyız."
   ]
  },
  {
   "cell_type": "code",
   "execution_count": 66,
   "id": "4aa99ef4",
   "metadata": {},
   "outputs": [
    {
     "name": "stdout",
     "output_type": "stream",
     "text": [
      "[[4, 5, 6, 7], [8, 9, 10, 48], [52, 63, 89, 142]]\n"
     ]
    }
   ],
   "source": [
    "def bubble_sort(matrix):\n",
    "    rows = len(matrix)\n",
    "    cols = len(matrix[0]) #0 sütun saysıını verir\n",
    "\n",
    "    # Matrisi tek bir listeye çeviriyoruz\n",
    "    flat_matrix = []\n",
    "    for i in range(rows):\n",
    "        for j in range(cols):\n",
    "            flat_matrix.append(matrix[i][j])\n",
    "\n",
    "    ##i represents the number of elements that are already sorted\n",
    "    lenght = len(flat_matrix)\n",
    "    for i in range(lenght): #en sondaki elemana bakmayız zaten sıralıdır.arkasında bir sayı yok zaten karşılaştırılacak\n",
    "        for j in range(0, lenght - i - 1): #her iterasyonda en büyük sayıyı sona atıyor.tekrar onlara bakmaya gerek yok -i çıkarırız\n",
    "            if flat_matrix[j] > flat_matrix[j + 1]:\n",
    "                flat_matrix[j], flat_matrix[j + 1] = flat_matrix[j + 1], flat_matrix[j]\n",
    "\n",
    "    # Sıralanmış liste boyutunda yeni bir matris oluşturalım\n",
    "    sorted_matrix = [[flat_matrix[i * cols + j] for j in range(cols)] for i in range(rows)]\n",
    "    #boş matris oluşturup \n",
    "    #for i in range(rows)=matris satılarını gezicez \n",
    "    return sorted_matrix\n",
    "\n",
    "matrix=[[4,8,7,9],\n",
    "        [10,52,48,63],\n",
    "        [142,6,5,89]]\n",
    "\n",
    "sorted_matrix = bubble_sort(matrix)\n",
    "print(sorted_matrix)"
   ]
  },
  {
   "cell_type": "code",
   "execution_count": 69,
   "id": "6de36bda",
   "metadata": {},
   "outputs": [
    {
     "name": "stdout",
     "output_type": "stream",
     "text": [
      "True\n"
     ]
    }
   ],
   "source": [
    "def searchMatrix(sorted_matrix,value):\n",
    "    row = len(sorted_matrix)\n",
    "    col = len(sorted_matrix[0])\n",
    "    low=0\n",
    "    #ikili arama için başlangıçta arama aralığını tam matris boyutu kadar belirler.\n",
    "    high=row*col #ikili arama yaparken indeks hesaplamalarında sıralı matrisin satır ve sütun sayılarını kullanmalı\n",
    "    while low<high:\n",
    "        mid=(low+high)//2 #Aramaya ilk önce ortak noktayı bularakbaşlıyoruz \"//\" düz matematiksel işlem yapar\n",
    "        if sorted_matrix[mid//col][mid%col]==value:\n",
    "            return True #Eğer orta noktadaki değer, aradığımız değer (value) ile eşitse, bu demektir ki değeri bulduk ve True döndürüyoruz.\n",
    "        elif sorted_matrix[mid//col][mid%col]<value:\n",
    "            low= mid+ 1  #Eğer orta noktadaki değer, aradığımız değerden (value) küçükse, arama aralığını sağ tarafa (mid+1'den high'a) kaydırıyoruz.\n",
    "        else:\n",
    "            high=mid #Eğer orta noktadaki değer, aradığımız değerden (value) büyükse, arama aralığını sol tarafa (low'dan mid'e) kaydırıyoruz.\n",
    "    return False        \n",
    "print(searchMatrix(sorted_matrix,52))"
   ]
  },
  {
   "cell_type": "code",
   "execution_count": null,
   "id": "beee1784",
   "metadata": {},
   "outputs": [],
   "source": []
  }
 ],
 "metadata": {
  "kernelspec": {
   "display_name": "Python 3 (ipykernel)",
   "language": "python",
   "name": "python3"
  },
  "language_info": {
   "codemirror_mode": {
    "name": "ipython",
    "version": 3
   },
   "file_extension": ".py",
   "mimetype": "text/x-python",
   "name": "python",
   "nbconvert_exporter": "python",
   "pygments_lexer": "ipython3",
   "version": "3.9.12"
  }
 },
 "nbformat": 4,
 "nbformat_minor": 5
}
